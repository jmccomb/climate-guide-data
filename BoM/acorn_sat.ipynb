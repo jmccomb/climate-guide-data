{
 "cells": [
  {
   "cell_type": "markdown",
   "metadata": {},
   "outputs": [],
   "source": [
    "# ACORN-SAT using Python and Jupyter Notebook"
   ]
  },
  {
   "cell_type": "markdown",
   "metadata": {},
   "outputs": [],
   "source": [
    "## Let's load some data..."
   ]
  },
  {
   "source": [
    "import io\n",
    "import requests\n",
    "import pandas as pd\n",
    "\n",
    "response = requests.get('http://www.bom.gov.au/climate/change/acorn/sat/data/acorn.sat.minT.086071.daily.txt')\n",
    "file_object = io.StringIO(response.content.decode('utf-8'))\n",
    "\n",
    "tmin_melb = pd.read_csv(file_object)\n",
    "\n",
    "tmin_melb.head()"
   ],
   "cell_type": "code",
   "outputs": [
    {
     "output_type": "error",
     "evalue": "Error: Jupyter server crashed. Unable to connect. \r\nError code from jupyter: 1"
    }
   ],
   "metadata": {},
   "execution_count": null
  },
  {
   "cell_type": "code",
   "execution_count": 5,
   "metadata": {},
   "outputs": [
    {
     "data": {
      "text/html": "<div>\n<style scoped>\n    .dataframe tbody tr th:only-of-type {\n        vertical-align: middle;\n    }\n\n    .dataframe tbody tr th {\n        vertical-align: top;\n    }\n\n    .dataframe thead th {\n        text-align: right;\n    }\n</style>\n<table border=\"1\" class=\"dataframe\">\n  <thead>\n    <tr style=\"text-align: right;\">\n      <th></th>\n      <th>date</th>\n      <th>tmin</th>\n    </tr>\n  </thead>\n  <tbody>\n    <tr>\n      <th>0</th>\n      <td>19100101</td>\n      <td>9.9</td>\n    </tr>\n    <tr>\n      <th>1</th>\n      <td>19100102</td>\n      <td>14.5</td>\n    </tr>\n    <tr>\n      <th>2</th>\n      <td>19100103</td>\n      <td>24.3</td>\n    </tr>\n    <tr>\n      <th>3</th>\n      <td>19100104</td>\n      <td>17.7</td>\n    </tr>\n    <tr>\n      <th>4</th>\n      <td>19100105</td>\n      <td>13.8</td>\n    </tr>\n  </tbody>\n</table>\n</div>",
      "text/plain": "       date  tmin\n0  19100101   9.9\n1  19100102  14.5\n2  19100103  24.3\n3  19100104  17.7\n4  19100105  13.8"
     },
     "execution_count": 5,
     "metadata": {},
     "output_type": "execute_result"
    }
   ],
   "source": [
    "import io\n",
    "import requests\n",
    "import pandas as pd\n",
    "\n",
    "url = \"http://www.bom.gov.au/climate/change/acorn/sat/data/acorn.sat.minT.086071.daily.txt\"\n",
    "headers = {\"User-Agent\": \"Mozilla/5.0 (Macintosh; Intel Mac OS X 10.14; rv:66.0) Gecko/20100101 Firefox/66.0\"}\n",
    "req = requests.get(url, headers=headers)\n",
    "data = io.StringIO(req.text)\n",
    "\n",
    "tmin_melb = pd.read_csv(data, delimiter='\\s+', skiprows=1, names=['date', 'tmin'], na_values='99999.9',)\n",
    "\n",
    "tmin_melb.head()"
   ]
  },
  {
   "cell_type": "code",
   "execution_count": 6,
   "metadata": {},
   "outputs": [
    {
     "ename": "FileNotFoundError",
     "evalue": "[Errno 2] File b'86071_tmin.csv' does not exist: b'86071_tmin.csv'",
     "output_type": "error",
     "traceback": [
      "\u001b[1;31m---------------------------------------------------------------------------\u001b[0m",
      "\u001b[1;31mFileNotFoundError\u001b[0m                         Traceback (most recent call last)",
      "\u001b[1;32m<ipython-input-6-0044f5b8dfe2>\u001b[0m in \u001b[0;36m<module>\u001b[1;34m\u001b[0m\n\u001b[0;32m      1\u001b[0m \u001b[1;32mimport\u001b[0m \u001b[0mpandas\u001b[0m \u001b[1;32mas\u001b[0m \u001b[0mpd\u001b[0m\u001b[1;33m\u001b[0m\u001b[1;33m\u001b[0m\u001b[0m\n\u001b[0;32m      2\u001b[0m \u001b[1;33m\u001b[0m\u001b[0m\n\u001b[1;32m----> 3\u001b[1;33m \u001b[0mtmin_melb\u001b[0m \u001b[1;33m=\u001b[0m \u001b[0mpd\u001b[0m\u001b[1;33m.\u001b[0m\u001b[0mread_csv\u001b[0m\u001b[1;33m(\u001b[0m\u001b[1;34m'86071_tmin.csv'\u001b[0m\u001b[1;33m,\u001b[0m \u001b[0mdelimiter\u001b[0m\u001b[1;33m=\u001b[0m\u001b[1;34m'\\s+'\u001b[0m\u001b[1;33m,\u001b[0m \u001b[0mskiprows\u001b[0m\u001b[1;33m=\u001b[0m\u001b[1;36m1\u001b[0m\u001b[1;33m,\u001b[0m\u001b[1;33m)\u001b[0m\u001b[1;33m\u001b[0m\u001b[1;33m\u001b[0m\u001b[0m\n\u001b[0m\u001b[0;32m      4\u001b[0m \u001b[1;33m\u001b[0m\u001b[0m\n\u001b[0;32m      5\u001b[0m \u001b[0mtmin_melb\u001b[0m\u001b[1;33m.\u001b[0m\u001b[0mhead\u001b[0m\u001b[1;33m(\u001b[0m\u001b[1;33m)\u001b[0m\u001b[1;33m\u001b[0m\u001b[1;33m\u001b[0m\u001b[0m\n",
      "\u001b[1;32m~\\AppData\\Roaming\\Python\\Python37\\site-packages\\pandas\\io\\parsers.py\u001b[0m in \u001b[0;36mparser_f\u001b[1;34m(filepath_or_buffer, sep, delimiter, header, names, index_col, usecols, squeeze, prefix, mangle_dupe_cols, dtype, engine, converters, true_values, false_values, skipinitialspace, skiprows, skipfooter, nrows, na_values, keep_default_na, na_filter, verbose, skip_blank_lines, parse_dates, infer_datetime_format, keep_date_col, date_parser, dayfirst, cache_dates, iterator, chunksize, compression, thousands, decimal, lineterminator, quotechar, quoting, doublequote, escapechar, comment, encoding, dialect, error_bad_lines, warn_bad_lines, delim_whitespace, low_memory, memory_map, float_precision)\u001b[0m\n\u001b[0;32m    683\u001b[0m         )\n\u001b[0;32m    684\u001b[0m \u001b[1;33m\u001b[0m\u001b[0m\n\u001b[1;32m--> 685\u001b[1;33m         \u001b[1;32mreturn\u001b[0m \u001b[0m_read\u001b[0m\u001b[1;33m(\u001b[0m\u001b[0mfilepath_or_buffer\u001b[0m\u001b[1;33m,\u001b[0m \u001b[0mkwds\u001b[0m\u001b[1;33m)\u001b[0m\u001b[1;33m\u001b[0m\u001b[1;33m\u001b[0m\u001b[0m\n\u001b[0m\u001b[0;32m    686\u001b[0m \u001b[1;33m\u001b[0m\u001b[0m\n\u001b[0;32m    687\u001b[0m     \u001b[0mparser_f\u001b[0m\u001b[1;33m.\u001b[0m\u001b[0m__name__\u001b[0m \u001b[1;33m=\u001b[0m \u001b[0mname\u001b[0m\u001b[1;33m\u001b[0m\u001b[1;33m\u001b[0m\u001b[0m\n",
      "\u001b[1;32m~\\AppData\\Roaming\\Python\\Python37\\site-packages\\pandas\\io\\parsers.py\u001b[0m in \u001b[0;36m_read\u001b[1;34m(filepath_or_buffer, kwds)\u001b[0m\n\u001b[0;32m    455\u001b[0m \u001b[1;33m\u001b[0m\u001b[0m\n\u001b[0;32m    456\u001b[0m     \u001b[1;31m# Create the parser.\u001b[0m\u001b[1;33m\u001b[0m\u001b[1;33m\u001b[0m\u001b[1;33m\u001b[0m\u001b[0m\n\u001b[1;32m--> 457\u001b[1;33m     \u001b[0mparser\u001b[0m \u001b[1;33m=\u001b[0m \u001b[0mTextFileReader\u001b[0m\u001b[1;33m(\u001b[0m\u001b[0mfp_or_buf\u001b[0m\u001b[1;33m,\u001b[0m \u001b[1;33m**\u001b[0m\u001b[0mkwds\u001b[0m\u001b[1;33m)\u001b[0m\u001b[1;33m\u001b[0m\u001b[1;33m\u001b[0m\u001b[0m\n\u001b[0m\u001b[0;32m    458\u001b[0m \u001b[1;33m\u001b[0m\u001b[0m\n\u001b[0;32m    459\u001b[0m     \u001b[1;32mif\u001b[0m \u001b[0mchunksize\u001b[0m \u001b[1;32mor\u001b[0m \u001b[0miterator\u001b[0m\u001b[1;33m:\u001b[0m\u001b[1;33m\u001b[0m\u001b[1;33m\u001b[0m\u001b[0m\n",
      "\u001b[1;32m~\\AppData\\Roaming\\Python\\Python37\\site-packages\\pandas\\io\\parsers.py\u001b[0m in \u001b[0;36m__init__\u001b[1;34m(self, f, engine, **kwds)\u001b[0m\n\u001b[0;32m    893\u001b[0m             \u001b[0mself\u001b[0m\u001b[1;33m.\u001b[0m\u001b[0moptions\u001b[0m\u001b[1;33m[\u001b[0m\u001b[1;34m\"has_index_names\"\u001b[0m\u001b[1;33m]\u001b[0m \u001b[1;33m=\u001b[0m \u001b[0mkwds\u001b[0m\u001b[1;33m[\u001b[0m\u001b[1;34m\"has_index_names\"\u001b[0m\u001b[1;33m]\u001b[0m\u001b[1;33m\u001b[0m\u001b[1;33m\u001b[0m\u001b[0m\n\u001b[0;32m    894\u001b[0m \u001b[1;33m\u001b[0m\u001b[0m\n\u001b[1;32m--> 895\u001b[1;33m         \u001b[0mself\u001b[0m\u001b[1;33m.\u001b[0m\u001b[0m_make_engine\u001b[0m\u001b[1;33m(\u001b[0m\u001b[0mself\u001b[0m\u001b[1;33m.\u001b[0m\u001b[0mengine\u001b[0m\u001b[1;33m)\u001b[0m\u001b[1;33m\u001b[0m\u001b[1;33m\u001b[0m\u001b[0m\n\u001b[0m\u001b[0;32m    896\u001b[0m \u001b[1;33m\u001b[0m\u001b[0m\n\u001b[0;32m    897\u001b[0m     \u001b[1;32mdef\u001b[0m \u001b[0mclose\u001b[0m\u001b[1;33m(\u001b[0m\u001b[0mself\u001b[0m\u001b[1;33m)\u001b[0m\u001b[1;33m:\u001b[0m\u001b[1;33m\u001b[0m\u001b[1;33m\u001b[0m\u001b[0m\n",
      "\u001b[1;32m~\\AppData\\Roaming\\Python\\Python37\\site-packages\\pandas\\io\\parsers.py\u001b[0m in \u001b[0;36m_make_engine\u001b[1;34m(self, engine)\u001b[0m\n\u001b[0;32m   1133\u001b[0m     \u001b[1;32mdef\u001b[0m \u001b[0m_make_engine\u001b[0m\u001b[1;33m(\u001b[0m\u001b[0mself\u001b[0m\u001b[1;33m,\u001b[0m \u001b[0mengine\u001b[0m\u001b[1;33m=\u001b[0m\u001b[1;34m\"c\"\u001b[0m\u001b[1;33m)\u001b[0m\u001b[1;33m:\u001b[0m\u001b[1;33m\u001b[0m\u001b[1;33m\u001b[0m\u001b[0m\n\u001b[0;32m   1134\u001b[0m         \u001b[1;32mif\u001b[0m \u001b[0mengine\u001b[0m \u001b[1;33m==\u001b[0m \u001b[1;34m\"c\"\u001b[0m\u001b[1;33m:\u001b[0m\u001b[1;33m\u001b[0m\u001b[1;33m\u001b[0m\u001b[0m\n\u001b[1;32m-> 1135\u001b[1;33m             \u001b[0mself\u001b[0m\u001b[1;33m.\u001b[0m\u001b[0m_engine\u001b[0m \u001b[1;33m=\u001b[0m \u001b[0mCParserWrapper\u001b[0m\u001b[1;33m(\u001b[0m\u001b[0mself\u001b[0m\u001b[1;33m.\u001b[0m\u001b[0mf\u001b[0m\u001b[1;33m,\u001b[0m \u001b[1;33m**\u001b[0m\u001b[0mself\u001b[0m\u001b[1;33m.\u001b[0m\u001b[0moptions\u001b[0m\u001b[1;33m)\u001b[0m\u001b[1;33m\u001b[0m\u001b[1;33m\u001b[0m\u001b[0m\n\u001b[0m\u001b[0;32m   1136\u001b[0m         \u001b[1;32melse\u001b[0m\u001b[1;33m:\u001b[0m\u001b[1;33m\u001b[0m\u001b[1;33m\u001b[0m\u001b[0m\n\u001b[0;32m   1137\u001b[0m             \u001b[1;32mif\u001b[0m \u001b[0mengine\u001b[0m \u001b[1;33m==\u001b[0m \u001b[1;34m\"python\"\u001b[0m\u001b[1;33m:\u001b[0m\u001b[1;33m\u001b[0m\u001b[1;33m\u001b[0m\u001b[0m\n",
      "\u001b[1;32m~\\AppData\\Roaming\\Python\\Python37\\site-packages\\pandas\\io\\parsers.py\u001b[0m in \u001b[0;36m__init__\u001b[1;34m(self, src, **kwds)\u001b[0m\n\u001b[0;32m   1915\u001b[0m         \u001b[0mkwds\u001b[0m\u001b[1;33m[\u001b[0m\u001b[1;34m\"usecols\"\u001b[0m\u001b[1;33m]\u001b[0m \u001b[1;33m=\u001b[0m \u001b[0mself\u001b[0m\u001b[1;33m.\u001b[0m\u001b[0musecols\u001b[0m\u001b[1;33m\u001b[0m\u001b[1;33m\u001b[0m\u001b[0m\n\u001b[0;32m   1916\u001b[0m \u001b[1;33m\u001b[0m\u001b[0m\n\u001b[1;32m-> 1917\u001b[1;33m         \u001b[0mself\u001b[0m\u001b[1;33m.\u001b[0m\u001b[0m_reader\u001b[0m \u001b[1;33m=\u001b[0m \u001b[0mparsers\u001b[0m\u001b[1;33m.\u001b[0m\u001b[0mTextReader\u001b[0m\u001b[1;33m(\u001b[0m\u001b[0msrc\u001b[0m\u001b[1;33m,\u001b[0m \u001b[1;33m**\u001b[0m\u001b[0mkwds\u001b[0m\u001b[1;33m)\u001b[0m\u001b[1;33m\u001b[0m\u001b[1;33m\u001b[0m\u001b[0m\n\u001b[0m\u001b[0;32m   1918\u001b[0m         \u001b[0mself\u001b[0m\u001b[1;33m.\u001b[0m\u001b[0munnamed_cols\u001b[0m \u001b[1;33m=\u001b[0m \u001b[0mself\u001b[0m\u001b[1;33m.\u001b[0m\u001b[0m_reader\u001b[0m\u001b[1;33m.\u001b[0m\u001b[0munnamed_cols\u001b[0m\u001b[1;33m\u001b[0m\u001b[1;33m\u001b[0m\u001b[0m\n\u001b[0;32m   1919\u001b[0m \u001b[1;33m\u001b[0m\u001b[0m\n",
      "\u001b[1;32mpandas/_libs/parsers.pyx\u001b[0m in \u001b[0;36mpandas._libs.parsers.TextReader.__cinit__\u001b[1;34m()\u001b[0m\n",
      "\u001b[1;32mpandas/_libs/parsers.pyx\u001b[0m in \u001b[0;36mpandas._libs.parsers.TextReader._setup_parser_source\u001b[1;34m()\u001b[0m\n",
      "\u001b[1;31mFileNotFoundError\u001b[0m: [Errno 2] File b'86071_tmin.csv' does not exist: b'86071_tmin.csv'"
     ]
    }
   ],
   "source": [
    "import pandas as pd\n",
    "\n",
    "tmin_melb = pd.read_csv('86071_tmin.csv', delimiter='\\s+', skiprows=1,)\n",
    "\n",
    "tmin_melb.head()"
   ]
  },
  {
   "cell_type": "code",
   "execution_count": 0,
   "metadata": {},
   "outputs": [],
   "source": [
    "import pandas as pd\n",
    "\n",
    "tmin_melb = pd.read_csv('86071_tmin.csv', delimiter='\\s+', skiprows=1, names=['date', 'tmin'], na_values='99999.9',)\n",
    "\n",
    "tmin_melb.head()"
   ]
  },
  {
   "cell_type": "code",
   "execution_count": 0,
   "metadata": {},
   "outputs": [],
   "source": [
    "import io\n",
    "import requests\n",
    "import pandas as pd\n",
    "import datetime\n",
    "\n",
    "# Function to convert YYYYMMDD to Python datetime\n",
    "def make_date(n):\n",
    "    return datetime.datetime.strptime(n, '%Y%m%d')\n",
    "\n",
    "url = \"http://www.bom.gov.au/climate/change/acorn/sat/data/acorn.sat.minT.086071.daily.txt\"\n",
    "headers = {\"User-Agent\": \"Mozilla/5.0 (Macintosh; Intel Mac OS X 10.14; rv:66.0) Gecko/20100101 Firefox/66.0\"}\n",
    "req = requests.get(url, headers=headers)\n",
    "data = io.StringIO(req.text)\n",
    "\n",
    "\n",
    "tmin_melb = pd.read_csv(data, delimiter='\\s+', skiprows=1, names=['date', 'tmin'], na_values='99999.9',\n",
    "                       index_col=0, converters={'date':make_date})\n",
    "\n",
    "tmin_melb.head(5)"
   ]
  },
  {
   "source": [
    "# http://www.bom.gov.au/climate/change/hqsites/data/temp/tmin.086338.daily.csv\n",
    "import io\n",
    "import requests\n",
    "import pandas as pd\n",
    "import datetime\n",
    "\n",
    "# Function to convert YYYYMMDD to Python datetime\n",
    "def make_date(n):\n",
    "    return datetime.datetime.strptime(n, '%Y-%m-%d')\n",
    "\n",
    "url = \"http://www.bom.gov.au/climate/change/hqsites/data/temp/tmin.086338.daily.csv\"\n",
    "headers = {\"User-Agent\": \"Mozilla/5.0 (Macintosh; Intel Mac OS X 10.14; rv:66.0) Gecko/20100101 Firefox/66.0\"}\n",
    "req = requests.get(url, headers=headers)\n",
    "data = io.StringIO(req.text)\n",
    "\n",
    "tmin_melb = pd.read_csv(data, skiprows=2,  index_col=0, usecols=[0,1], names=['date', 'tmin'],\n",
    "                       converters={'date': make_date})\n",
    "tmin_melb.head(5)"
   ],
   "cell_type": "code",
   "outputs": [
    {
     "output_type": "error",
     "evalue": "Error: Jupyter server crashed. Unable to connect. \r\nError code from jupyter: 1"
    }
   ],
   "metadata": {},
   "execution_count": null
  },
  {
   "source": [
    "import io\n",
    "import requests\n",
    "import pandas as pd\n",
    "import datetime\n",
    "\n",
    "# Function to convert YYYYMMDD to Python datetime\n",
    "def make_date(n):\n",
    "    return pd.to_datetime(n, format='%Y%m%d')\n",
    "\n",
    "\n",
    "# Get tmin for Melbourne\n",
    "url = \"http://www.bom.gov.au/climate/change/acorn/sat/data/acorn.sat.minT.086071.daily.txt\"\n",
    "headers = {\"User-Agent\": \"Mozilla/5.0 (Macintosh; Intel Mac OS X 10.14; rv:66.0) Gecko/20100101 Firefox/66.0\"}\n",
    "req = requests.get(url, headers=headers)\n",
    "data = io.StringIO(req.text)\n",
    "tmin_melb = pd.read_csv(data, delimiter='\\s+', skiprows=1, names=['date', 'tmin'], na_values='99999.9',\n",
    "                       index_col=0, converters={'date':make_date})\n",
    "\n",
    "# Get tmax for Melbourne\n",
    "url = \"http://www.bom.gov.au/climate/change/acorn/sat/data/acorn.sat.maxT.086071.daily.txt\"\n",
    "req = requests.get(url, headers=headers)\n",
    "data = io.StringIO(req.text)\n",
    "tmax_melb = pd.read_csv(data, delimiter='\\s+', skiprows=1, names=['date', 'tmax'], na_values='99999.9',\n",
    "                       index_col=0, converters={0:make_date})\n",
    "\n",
    "tmax_melb.head(5)"
   ],
   "cell_type": "code",
   "outputs": [
    {
     "output_type": "error",
     "evalue": "Error: Jupyter server crashed. Unable to connect. \r\nError code from jupyter: 1"
    }
   ],
   "metadata": {},
   "execution_count": null
  },
  {
   "source": [
    "import pandas as pd\n",
    "\n",
    "tall_melb = tmin_melb.join(tmax_melb, how='outer')\n",
    "tall_melb.head(10)"
   ],
   "cell_type": "code",
   "outputs": [
    {
     "output_type": "error",
     "evalue": "Error: Jupyter server crashed. Unable to connect. \r\nError code from jupyter: 1"
    }
   ],
   "metadata": {},
   "execution_count": null
  },
  {
   "source": [
    "tall_melb['tmean'] = (tall_melb['tmin'] + tall_melb['tmax']) / 2\n",
    "tall_melb.head(10)"
   ],
   "cell_type": "code",
   "outputs": [
    {
     "output_type": "error",
     "evalue": "Error: Jupyter server crashed. Unable to connect. \r\nError code from jupyter: 1"
    }
   ],
   "metadata": {},
   "execution_count": null
  },
  {
   "source": [
    "tall_melb['tave'] = (tall_melb['tmin'].shift(1) + tall_melb['tmax']) / 2\n",
    "tall_melb.head(10)"
   ],
   "cell_type": "code",
   "outputs": [
    {
     "output_type": "error",
     "evalue": "Error: Jupyter server crashed. Unable to connect. \r\nError code from jupyter: 1"
    }
   ],
   "metadata": {},
   "execution_count": null
  },
  {
   "source": [
    "tall_melb.describe()"
   ],
   "cell_type": "code",
   "outputs": [
    {
     "output_type": "error",
     "evalue": "Error: Jupyter server crashed. Unable to connect. \r\nError code from jupyter: 1"
    }
   ],
   "metadata": {},
   "execution_count": null
  },
  {
   "source": [
    "tall_melb = tall_melb.drop('tave', axis=1)\n",
    "tall_melb.head(10)"
   ],
   "cell_type": "code",
   "outputs": [
    {
     "output_type": "error",
     "evalue": "Error: Jupyter server crashed. Unable to connect. \r\nError code from jupyter: 1"
    }
   ],
   "metadata": {},
   "execution_count": null
  },
  {
   "source": [
    "\n",
    "%matplotlib inline\n",
    "\n",
    "tall_melb.plot()"
   ],
   "cell_type": "code",
   "outputs": [
    {
     "output_type": "error",
     "evalue": "Error: Jupyter server crashed. Unable to connect. \r\nError code from jupyter: 1"
    }
   ],
   "metadata": {},
   "execution_count": null
  },
  {
   "source": [
    "tall_melb['1980-01-01':'1980-12-31'].plot()"
   ],
   "cell_type": "code",
   "outputs": [
    {
     "output_type": "error",
     "evalue": "Error: Jupyter server crashed. Unable to connect. \r\nError code from jupyter: 1"
    }
   ],
   "metadata": {},
   "execution_count": null
  },
  {
   "source": [
    "tall_melb['1980-01-01':'1980-12-31'].rolling(10).mean().plot()"
   ],
   "cell_type": "code",
   "outputs": [
    {
     "output_type": "error",
     "evalue": "Error: Jupyter server crashed. Unable to connect. \r\nError code from jupyter: 1"
    }
   ],
   "metadata": {},
   "execution_count": null
  },
  {
   "source": [
    "%matplotlib inline\n",
    "\n",
    "tall_melb['1980-01-01':'1980-12-31'].rolling(10, win_type='triang').mean().plot() \n",
    "# boxcar triang blackman hamming bartlett parzen bohman blackmanharris nuttall barthann"
   ],
   "cell_type": "code",
   "outputs": [
    {
     "output_type": "error",
     "evalue": "Error: Jupyter server crashed. Unable to connect. \r\nError code from jupyter: 1"
    }
   ],
   "metadata": {},
   "execution_count": null
  },
  {
   "source": [
    "%matplotlib inline\n",
    "\n",
    "# Can also use an offset - e.g. number of days...\n",
    "tall_melb['1980-01-01':'1980-12-31'].rolling('10d').mean().plot()"
   ],
   "cell_type": "code",
   "outputs": [
    {
     "output_type": "error",
     "evalue": "Error: Jupyter server crashed. Unable to connect. \r\nError code from jupyter: 1"
    }
   ],
   "metadata": {},
   "execution_count": null
  },
  {
   "source": [
    "# Group by month...\n",
    "\n",
    "mnth_melb = tall_melb.groupby(by=tall_melb.index.month)\n",
    "mnth_melb.mean()"
   ],
   "cell_type": "code",
   "outputs": [
    {
     "output_type": "error",
     "evalue": "Error: Jupyter server crashed. Unable to connect. \r\nError code from jupyter: 1"
    }
   ],
   "metadata": {},
   "execution_count": null
  },
  {
   "source": [
    "# Find the monthly climatology for Melbourne...\n",
    "\n",
    "clim = tall_melb['1961-01-01':'1991-01-01']\n",
    "clim.groupby(by=clim.index.month).mean()"
   ],
   "cell_type": "code",
   "outputs": [
    {
     "output_type": "error",
     "evalue": "Error: Jupyter server crashed. Unable to connect. \r\nError code from jupyter: 1"
    }
   ],
   "metadata": {},
   "execution_count": null
  },
  {
   "source": [
    "tall_melb['tmax'] > 42"
   ],
   "cell_type": "code",
   "outputs": [
    {
     "output_type": "error",
     "evalue": "Error: Jupyter server crashed. Unable to connect. \r\nError code from jupyter: 1"
    }
   ],
   "metadata": {},
   "execution_count": null
  },
  {
   "source": [
    "# Find all days with max temp > 42\n",
    "\n",
    "# tall_melb['tmax'] > 42\n",
    "tall_melb[tall_melb['tmax'] > 42]"
   ],
   "cell_type": "code",
   "outputs": [
    {
     "output_type": "error",
     "evalue": "Error: Jupyter server crashed. Unable to connect. \r\nError code from jupyter: 1"
    }
   ],
   "metadata": {},
   "execution_count": null
  },
  {
   "source": [
    "# Look at correlation...\n",
    "\n",
    "tall_melb['tmax'].corr(tall_melb['tmin'])"
   ],
   "cell_type": "code",
   "outputs": [
    {
     "output_type": "error",
     "evalue": "Error: Jupyter server crashed. Unable to connect. \r\nError code from jupyter: 1"
    }
   ],
   "metadata": {},
   "execution_count": null
  },
  {
   "source": [
    "tall_melb.corr()"
   ],
   "cell_type": "code",
   "outputs": [
    {
     "output_type": "error",
     "evalue": "Error: Jupyter server crashed. Unable to connect. \r\nError code from jupyter: 1"
    }
   ],
   "metadata": {},
   "execution_count": null
  },
  {
   "source": [
    "tall_melb.quantile(0.5)"
   ],
   "cell_type": "code",
   "outputs": [
    {
     "output_type": "error",
     "evalue": "Error: Jupyter server crashed. Unable to connect. \r\nError code from jupyter: 1"
    }
   ],
   "metadata": {},
   "execution_count": null
  },
  {
   "source": [
    "tall_melb.quantile([0.1, 0.5, 0.9])"
   ],
   "cell_type": "code",
   "outputs": [
    {
     "output_type": "error",
     "evalue": "Error: Jupyter server crashed. Unable to connect. \r\nError code from jupyter: 1"
    }
   ],
   "metadata": {},
   "execution_count": null
  },
  {
   "source": [
    "tall_melb.quantile([0.1, 0.5, 0.9], interpolation='lower') # linear’, ‘lower’, ‘higher’, ‘midpoint’, ‘nearest’"
   ],
   "cell_type": "code",
   "outputs": [
    {
     "output_type": "error",
     "evalue": "Error: Jupyter server crashed. Unable to connect. \r\nError code from jupyter: 1"
    }
   ],
   "metadata": {},
   "execution_count": null
  },
  {
   "source": [
    "import seaborn as sns\n",
    "\n",
    "correlations = tall_melb.corr()\n",
    "sns.heatmap(correlations)"
   ],
   "cell_type": "code",
   "outputs": [
    {
     "output_type": "error",
     "evalue": "Error: Jupyter server crashed. Unable to connect. \r\nError code from jupyter: 1"
    }
   ],
   "metadata": {},
   "execution_count": null
  },
  {
   "source": [
    "# Find the 10 hottest days in Melbourne\n",
    "\n",
    "tall_melb.sort_values(by='tmax', ascending=False).head(10)"
   ],
   "cell_type": "code",
   "outputs": [
    {
     "output_type": "error",
     "evalue": "Error: Jupyter server crashed. Unable to connect. \r\nError code from jupyter: 1"
    }
   ],
   "metadata": {},
   "execution_count": null
  },
  {
   "source": [
    "pd.plotting.lag_plot(tall_melb['2010-01-01':'2011-01-01']['tmax'])"
   ],
   "cell_type": "code",
   "outputs": [
    {
     "output_type": "error",
     "evalue": "Error: Jupyter server crashed. Unable to connect. \r\nError code from jupyter: 1"
    }
   ],
   "metadata": {},
   "execution_count": null
  },
  {
   "source": [
    "pd.plotting.autocorrelation_plot(tall_melb['2010-01-01':'2011-01-01']['tmax'])"
   ],
   "cell_type": "code",
   "outputs": [
    {
     "output_type": "error",
     "evalue": "Error: Jupyter server crashed. Unable to connect. \r\nError code from jupyter: 1"
    }
   ],
   "metadata": {},
   "execution_count": null
  },
  {
   "source": [
    "resampled = tall_melb['2010-01-01':'2011-01-01'].tmax.resample('W').mean()\n",
    "resampled.plot()"
   ],
   "cell_type": "code",
   "outputs": [
    {
     "output_type": "error",
     "evalue": "Error: Jupyter server crashed. Unable to connect. \r\nError code from jupyter: 1"
    }
   ],
   "metadata": {},
   "execution_count": null
  },
  {
   "source": [
    "import sqlite3\n",
    "import pandas as pd\n",
    "\n",
    "conn = sqlite3.connect('acorn.db')\n",
    "\n",
    "stations = pd.read_sql_query(\"SELECT * FROM stations\", conn, index_col='stn_num')\n",
    "stations.head(10)"
   ],
   "cell_type": "code",
   "outputs": [
    {
     "output_type": "error",
     "evalue": "Error: Jupyter server crashed. Unable to connect. \r\nError code from jupyter: 1"
    }
   ],
   "metadata": {},
   "execution_count": null
  },
  {
   "source": [
    "stations[['lat', 'lon']].values"
   ],
   "cell_type": "code",
   "outputs": [
    {
     "output_type": "error",
     "evalue": "Error: Jupyter server crashed. Unable to connect. \r\nError code from jupyter: 1"
    }
   ],
   "metadata": {},
   "execution_count": null
  },
  {
   "source": [
    "import matplotlib.pyplot as plt\n",
    "import cartopy.crs as ccrs\n",
    "import cartopy.feature as cfeature \n",
    "\n",
    "ax = plt.axes(projection=ccrs.PlateCarree()) \n",
    "ax.set_extent([100, 170, -40, -5])         \n",
    "ax.add_feature(cfeature.LAND)\n",
    "ax.add_feature(cfeature.OCEAN)\n",
    "\n",
    "plt.show()"
   ],
   "cell_type": "code",
   "outputs": [
    {
     "output_type": "error",
     "evalue": "Error: Jupyter server crashed. Unable to connect. \r\nError code from jupyter: 1"
    }
   ],
   "metadata": {},
   "execution_count": null
  },
  {
   "source": [
    "import matplotlib.pyplot as plt\n",
    "import cartopy.crs as ccrs\n",
    "import cartopy.feature as cfeature \n",
    "\n",
    "ax = plt.axes(projection=ccrs.PlateCarree()) \n",
    "ax.set_extent([100, 170, -40, -5])         \n",
    "ax.add_feature(cfeature.LAND)\n",
    "ax.add_feature(cfeature.OCEAN)\n",
    "ax.scatter(stations.lon.values,stations.lat.values,transform=ccrs.PlateCarree())\n",
    "plt.show()\n",
    "# plt.savefig('acornsat.svg')"
   ],
   "cell_type": "code",
   "outputs": [
    {
     "output_type": "error",
     "evalue": "Error: Jupyter server crashed. Unable to connect. \r\nError code from jupyter: 1"
    }
   ],
   "metadata": {},
   "execution_count": null
  },
  {
   "source": [
    "import sqlite3\n",
    "import pandas as pd\n",
    "\n",
    "conn = sqlite3.connect('acorn.db')\n",
    "\n",
    "data = pd.read_sql_query(\"\"\"\n",
    "    SELECT stn_num, lsd, prcp, t_min, t_max \n",
    "    FROM observations\n",
    "    WHERE lsd >= '1960-01-01'\n",
    "     AND  lsd < 1991-01-01\n",
    "    \"\"\", conn)\n",
    "data.head(10)"
   ],
   "cell_type": "code",
   "outputs": [
    {
     "output_type": "error",
     "evalue": "Error: Jupyter server crashed. Unable to connect. \r\nError code from jupyter: 1"
    }
   ],
   "metadata": {},
   "execution_count": null
  },
  {
   "source": [
    "data.groupby(by=data.stn_num).mean()\n"
   ],
   "cell_type": "code",
   "outputs": [
    {
     "output_type": "error",
     "evalue": "Error: Jupyter server crashed. Unable to connect. \r\nError code from jupyter: 1"
    }
   ],
   "metadata": {},
   "execution_count": null
  },
  {
   "source": [
    "import sqlite3\n",
    "import pandas as pd\n",
    "\n",
    "conn = sqlite3.connect('acorn.db')\n",
    "\n",
    "data = pd.read_sql_query(\"\"\"\n",
    "    SELECT stn_num, lsd, prcp, t_min, t_max \n",
    "    FROM observations\n",
    "    WHERE lsd == '1960-01-01'\n",
    "    \"\"\", conn)\n",
    "data.head(10)\n"
   ],
   "cell_type": "code",
   "outputs": [
    {
     "output_type": "error",
     "evalue": "Error: Jupyter server crashed. Unable to connect. \r\nError code from jupyter: 1"
    }
   ],
   "metadata": {},
   "execution_count": null
  },
  {
   "source": [
    "import sqlite3\n",
    "import pandas as pd\n",
    "\n",
    "conn = sqlite3.connect('acorn.db')\n",
    "\n",
    "data = pd.read_sql_query(\"\"\"\n",
    "    SELECT lat, lon, s.stn_num,  t_max \n",
    "    FROM observations o, stations s\n",
    "    WHERE lsd == '2005-01-01'\n",
    "    AND o.stn_num = s.stn_num\n",
    "    \"\"\", conn)\n",
    "data.head(10)"
   ],
   "cell_type": "code",
   "outputs": [
    {
     "output_type": "error",
     "evalue": "Error: Jupyter server crashed. Unable to connect. \r\nError code from jupyter: 1"
    }
   ],
   "metadata": {},
   "execution_count": null
  },
  {
   "source": [
    "import matplotlib.pyplot as plt\n",
    "%matplotlib inline\n",
    "\n",
    "y = data.lat.values \n",
    "x = data.lon.values \n",
    "t = data.t_max.values\n",
    "plt.scatter(x, y)\n",
    "# plt.scatter(data.lon.values,data.lat.values)\n"
   ],
   "cell_type": "code",
   "outputs": [
    {
     "output_type": "error",
     "evalue": "Error: Jupyter server crashed. Unable to connect. \r\nError code from jupyter: 1"
    }
   ],
   "metadata": {},
   "execution_count": null
  },
  {
   "source": [
    "import matplotlib.pyplot as plt\n",
    "%matplotlib inline\n",
    "\n",
    "y = data.lat.values \n",
    "x = data.lon.values \n",
    "t = data.t_max.values\n",
    "plt.scatter(x, y, c=t)\n",
    "plt.colorbar()"
   ],
   "cell_type": "code",
   "outputs": [
    {
     "output_type": "error",
     "evalue": "Error: Jupyter server crashed. Unable to connect. \r\nError code from jupyter: 1"
    }
   ],
   "metadata": {},
   "execution_count": null
  },
  {
   "source": [
    "import matplotlib.pyplot as plt\n",
    "%matplotlib inline\n",
    "\n",
    "y = data.lat.values \n",
    "x = data.lon.values \n",
    "t = data.t_max.values\n",
    "plt.scatter(x, y, c=t, s=t*5, alpha=0.5, cmap='plasma')\n",
    "plt.colorbar()"
   ],
   "cell_type": "code",
   "outputs": [
    {
     "output_type": "error",
     "evalue": "Error: Jupyter server crashed. Unable to connect. \r\nError code from jupyter: 1"
    }
   ],
   "metadata": {},
   "execution_count": null
  },
  {
   "source": [
    "import numpy as np\n",
    "from scipy.interpolate import griddata\n",
    "\n",
    "X, Y = np.meshgrid(np.linspace(110,155,100), np.linspace(-45,-10,100))\n",
    "\n",
    "#perform the gridding\n",
    "grid_temp = griddata((x,y), t, (X, Y))\n",
    "\n",
    "# plt.clf()\n",
    "plt.contourf(X,Y,grid_temp, cmap='plasma')\n",
    "plt.colorbar()"
   ],
   "cell_type": "code",
   "outputs": [
    {
     "output_type": "error",
     "evalue": "Error: Jupyter server crashed. Unable to connect. \r\nError code from jupyter: 1"
    }
   ],
   "metadata": {},
   "execution_count": null
  },
  {
   "cell_type": "code",
   "metadata": {},
   "outputs": [],
   "source": []
  },
  {
   "source": [
    "x = tall_melb['1961-01-01':'1991-01-01'].tmin.rolling(5).mean()\n",
    "x.quantile(0.1)\n",
    "# tall_melb['1961-01-01':'1991-01-01'].tmin.quantile(0.1)"
   ],
   "cell_type": "code",
   "outputs": [
    {
     "output_type": "error",
     "evalue": "Error: Jupyter server crashed. Unable to connect. \r\nError code from jupyter: 1"
    }
   ],
   "metadata": {},
   "execution_count": null
  },
  {
   "source": [
    "x = tall_melb['1961-01-01':'1991-01-01'].tmin.rolling(5).mean()\n",
    "q10 = x.quantile(0.1)\n",
    "print(q10)\n",
    "pop = tall_melb['1999-01-01':'2000-01-01']\n",
    "total = pop.tmin.count()\n",
    "sub = pop.tmin[pop.tmin < q10].count()\n",
    "(sub / total) * 100"
   ],
   "cell_type": "code",
   "outputs": [
    {
     "output_type": "error",
     "evalue": "Error: Jupyter server crashed. Unable to connect. \r\nError code from jupyter: 1"
    }
   ],
   "metadata": {},
   "execution_count": null
  },
  {
   "source": [
    "import math\n",
    "\n",
    "# a = [1, 1, 1, 1, 1, 1]\n",
    "\n",
    "a = [1, 1, 1, 2, 3, 5, 7, 7, 11, 13, 13, 13]\n",
    "\n",
    "b = [min(1, abs(x-y)) for x, y in zip(a, a[1:])] \n",
    "\n",
    "\n",
    "p = (b + [1]).index(1)\n",
    "print(p)\n",
    "a[:p] = [math.nan] * p\n",
    "try:\n",
    "    p = (b[::-1]).index(1)\n",
    "    a[-p:] = [math.nan] * p\n",
    "except:\n",
    "    pass\n",
    "\n",
    "a\n"
   ],
   "cell_type": "code",
   "outputs": [
    {
     "output_type": "error",
     "evalue": "Error: Jupyter server crashed. Unable to connect. \r\nError code from jupyter: 1"
    }
   ],
   "metadata": {},
   "execution_count": null
  },
  {
   "cell_type": "code",
   "metadata": {},
   "outputs": [],
   "source": []
  },
  {
   "source": [
    "from mpl_toolkits import mplot3d\n",
    "\n",
    "import numpy as np\n",
    "import matplotlib.pyplot as plt\n",
    "%matplotlib inline\n",
    "\n",
    "# fig = plt.figure()\n",
    "ax = plt.axes(projection=\"3d\")\n",
    "\n",
    "plt.show()"
   ],
   "cell_type": "code",
   "outputs": [
    {
     "output_type": "error",
     "evalue": "Error: Jupyter server crashed. Unable to connect. \r\nError code from jupyter: 1"
    }
   ],
   "metadata": {},
   "execution_count": null
  },
  {
   "source": [
    "# fig = plt.figure()\n",
    "ax = plt.axes(projection=\"3d\")\n",
    "\n",
    "z_line = np.linspace(0, 15, 1000)\n",
    "x_line = np.cos(z_line)\n",
    "y_line = np.sin(z_line)\n",
    "ax.plot3D(x_line, y_line, z_line, 'gray')\n",
    "\n",
    "z_points = 15 * np.random.random(100)\n",
    "x_points = np.cos(z_points) + 0.1 * np.random.randn(100)\n",
    "y_points = np.sin(z_points) + 0.1 * np.random.randn(100)\n",
    "ax.scatter3D(x_points, y_points, z_points, c=z_points, cmap='hsv');\n",
    "\n",
    "plt.show()\n"
   ],
   "cell_type": "code",
   "outputs": [
    {
     "output_type": "error",
     "evalue": "Error: Jupyter server crashed. Unable to connect. \r\nError code from jupyter: 1"
    }
   ],
   "metadata": {},
   "execution_count": null
  },
  {
   "cell_type": "code",
   "metadata": {},
   "outputs": [],
   "source": []
  }
 ],
 "metadata": {
  "kernelspec": {
   "display_name": "Python 3",
   "language": "python",
   "name": "python3"
  },
  "language_info": {
   "codemirror_mode": {
    "name": "ipython",
    "version": 3
   },
   "file_extension": ".py",
   "mimetype": "text/x-python",
   "name": "python",
   "nbconvert_exporter": "python",
   "pygments_lexer": "ipython3",
   "version": "3.7.5"
  }
 },
 "nbformat": 4,
 "nbformat_minor": 2
}
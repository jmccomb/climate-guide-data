{
 "cells": [
  {
   "cell_type": "markdown",
   "metadata": {},
   "source": [
    "# ACORN-SAT using Python and Jupyter Notebook"
   ]
  },
  {
   "cell_type": "markdown",
   "metadata": {},
   "source": [
    "## Let's load some data..."
   ]
  },
  {
   "cell_type": "code",
   "execution_count": 4,
   "metadata": {},
   "outputs": [
    {
     "data": {
      "text/html": "<div>\n<style scoped>\n    .dataframe tbody tr th:only-of-type {\n        vertical-align: middle;\n    }\n\n    .dataframe tbody tr th {\n        vertical-align: top;\n    }\n\n    .dataframe thead th {\n        text-align: right;\n    }\n</style>\n<table border=\"1\" class=\"dataframe\">\n  <thead>\n    <tr style=\"text-align: right;\">\n      <th></th>\n      <th>MIN TEMP   086071 19100101 20150106 missing_value=99999.9 MELBOURNE REGIONAL OFFICE</th>\n    </tr>\n  </thead>\n  <tbody>\n    <tr>\n      <th>0</th>\n      <td>19100101     9.9</td>\n    </tr>\n    <tr>\n      <th>1</th>\n      <td>19100102    14.5</td>\n    </tr>\n    <tr>\n      <th>2</th>\n      <td>19100103    24.3</td>\n    </tr>\n    <tr>\n      <th>3</th>\n      <td>19100104    17.7</td>\n    </tr>\n    <tr>\n      <th>4</th>\n      <td>19100105    13.8</td>\n    </tr>\n  </tbody>\n</table>\n</div>",
      "text/plain": "  MIN TEMP   086071 19100101 20150106 missing_value=99999.9 MELBOURNE REGIONAL OFFICE                 \n0                                   19100101     9.9                                                  \n1                                   19100102    14.5                                                  \n2                                   19100103    24.3                                                  \n3                                   19100104    17.7                                                  \n4                                   19100105    13.8                                                  "
     },
     "execution_count": 4,
     "metadata": {},
     "output_type": "execute_result"
    }
   ],
   "source": [
    "import io\n",
    "import requests\n",
    "import pandas as pd\n",
    "\n",
    "response = requests.get('http://www.bom.gov.au/climate/change/acorn/sat/data/acorn.sat.minT.086071.daily.txt')\n",
    "file_object = io.StringIO(response.content.decode('utf-8'))\n",
    "\n",
    "tmin_melb = pd.read_csv(file_object)\n",
    "\n",
    "tmin_melb.head()"
   ]
  },
  {
   "cell_type": "code",
   "execution_count": 6,
   "metadata": {},
   "outputs": [
    {
     "data": {
      "text/html": "<div>\n<style scoped>\n    .dataframe tbody tr th:only-of-type {\n        vertical-align: middle;\n    }\n\n    .dataframe tbody tr th {\n        vertical-align: top;\n    }\n\n    .dataframe thead th {\n        text-align: right;\n    }\n</style>\n<table border=\"1\" class=\"dataframe\">\n  <thead>\n    <tr style=\"text-align: right;\">\n      <th></th>\n      <th>date</th>\n      <th>tmin</th>\n    </tr>\n  </thead>\n  <tbody>\n    <tr>\n      <th>0</th>\n      <td>19100101</td>\n      <td>9.9</td>\n    </tr>\n    <tr>\n      <th>1</th>\n      <td>19100102</td>\n      <td>14.5</td>\n    </tr>\n    <tr>\n      <th>2</th>\n      <td>19100103</td>\n      <td>24.3</td>\n    </tr>\n    <tr>\n      <th>3</th>\n      <td>19100104</td>\n      <td>17.7</td>\n    </tr>\n    <tr>\n      <th>4</th>\n      <td>19100105</td>\n      <td>13.8</td>\n    </tr>\n  </tbody>\n</table>\n</div>",
      "text/plain": "       date  tmin\n0  19100101   9.9\n1  19100102  14.5\n2  19100103  24.3\n3  19100104  17.7\n4  19100105  13.8"
     },
     "execution_count": 6,
     "metadata": {},
     "output_type": "execute_result"
    }
   ],
   "source": [
    "import io\n",
    "import requests\n",
    "import pandas as pd\n",
    "\n",
    "url = \"http://www.bom.gov.au/climate/change/acorn/sat/data/acorn.sat.minT.086071.daily.txt\"\n",
    "headers = {\"User-Agent\": \"Mozilla/5.0 (Macintosh; Intel Mac OS X 10.14; rv:66.0) Gecko/20100101 Firefox/66.0\"}\n",
    "req = requests.get(url, headers=headers)\n",
    "data = io.StringIO(req.text)\n",
    "\n",
    "tmin_melb = pd.read_csv(data, delimiter='\\s+', skiprows=1, names=['date', 'tmin'], na_values='99999.9',)\n",
    "\n",
    "tmin_melb.head()"
   ]
  },
  {
   "cell_type": "code",
   "execution_count": 5,
   "metadata": {},
   "outputs": [
    {
     "data": {
      "text/html": "<div>\n<style scoped>\n    .dataframe tbody tr th:only-of-type {\n        vertical-align: middle;\n    }\n\n    .dataframe tbody tr th {\n        vertical-align: top;\n    }\n\n    .dataframe thead th {\n        text-align: right;\n    }\n</style>\n<table border=\"1\" class=\"dataframe\">\n  <thead>\n    <tr style=\"text-align: right;\">\n      <th></th>\n      <th>19100101</th>\n      <th>9.9</th>\n    </tr>\n  </thead>\n  <tbody>\n    <tr>\n      <th>0</th>\n      <td>19100102</td>\n      <td>14.5</td>\n    </tr>\n    <tr>\n      <th>1</th>\n      <td>19100103</td>\n      <td>24.3</td>\n    </tr>\n    <tr>\n      <th>2</th>\n      <td>19100104</td>\n      <td>17.7</td>\n    </tr>\n    <tr>\n      <th>3</th>\n      <td>19100105</td>\n      <td>13.8</td>\n    </tr>\n    <tr>\n      <th>4</th>\n      <td>19100106</td>\n      <td>16.9</td>\n    </tr>\n  </tbody>\n</table>\n</div>",
      "text/plain": "   19100101   9.9\n0  19100102  14.5\n1  19100103  24.3\n2  19100104  17.7\n3  19100105  13.8\n4  19100106  16.9"
     },
     "execution_count": 5,
     "metadata": {},
     "output_type": "execute_result"
    }
   ],
   "source": [
    "import pandas as pd\n",
    "\n",
    "tmin_melb = pd.read_csv('86071_tmin.csv', delimiter='\\s+', skiprows=1,)\n",
    "\n",
    "tmin_melb.head()"
   ]
  },
  {
   "cell_type": "code",
   "execution_count": 6,
   "metadata": {},
   "outputs": [
    {
     "data": {
      "text/html": "<div>\n<style scoped>\n    .dataframe tbody tr th:only-of-type {\n        vertical-align: middle;\n    }\n\n    .dataframe tbody tr th {\n        vertical-align: top;\n    }\n\n    .dataframe thead th {\n        text-align: right;\n    }\n</style>\n<table border=\"1\" class=\"dataframe\">\n  <thead>\n    <tr style=\"text-align: right;\">\n      <th></th>\n      <th>date</th>\n      <th>tmin</th>\n    </tr>\n  </thead>\n  <tbody>\n    <tr>\n      <th>0</th>\n      <td>19100101</td>\n      <td>9.9</td>\n    </tr>\n    <tr>\n      <th>1</th>\n      <td>19100102</td>\n      <td>14.5</td>\n    </tr>\n    <tr>\n      <th>2</th>\n      <td>19100103</td>\n      <td>24.3</td>\n    </tr>\n    <tr>\n      <th>3</th>\n      <td>19100104</td>\n      <td>17.7</td>\n    </tr>\n    <tr>\n      <th>4</th>\n      <td>19100105</td>\n      <td>13.8</td>\n    </tr>\n  </tbody>\n</table>\n</div>",
      "text/plain": "       date  tmin\n0  19100101   9.9\n1  19100102  14.5\n2  19100103  24.3\n3  19100104  17.7\n4  19100105  13.8"
     },
     "execution_count": 6,
     "metadata": {},
     "output_type": "execute_result"
    }
   ],
   "source": [
    "import pandas as pd\n",
    "\n",
    "tmin_melb = pd.read_csv('86071_tmin.csv', delimiter='\\s+', skiprows=1, names=['date', 'tmin'], na_values='99999.9',)\n",
    "\n",
    "tmin_melb.head()"
   ]
  },
  {
   "cell_type": "code",
   "execution_count": 7,
   "metadata": {},
   "outputs": [
    {
     "data": {
      "text/html": "<div>\n<style scoped>\n    .dataframe tbody tr th:only-of-type {\n        vertical-align: middle;\n    }\n\n    .dataframe tbody tr th {\n        vertical-align: top;\n    }\n\n    .dataframe thead th {\n        text-align: right;\n    }\n</style>\n<table border=\"1\" class=\"dataframe\">\n  <thead>\n    <tr style=\"text-align: right;\">\n      <th></th>\n      <th>tmin</th>\n    </tr>\n    <tr>\n      <th>date</th>\n      <th></th>\n    </tr>\n  </thead>\n  <tbody>\n    <tr>\n      <th>1910-01-01</th>\n      <td>9.9</td>\n    </tr>\n    <tr>\n      <th>1910-01-02</th>\n      <td>14.5</td>\n    </tr>\n    <tr>\n      <th>1910-01-03</th>\n      <td>24.3</td>\n    </tr>\n    <tr>\n      <th>1910-01-04</th>\n      <td>17.7</td>\n    </tr>\n    <tr>\n      <th>1910-01-05</th>\n      <td>13.8</td>\n    </tr>\n  </tbody>\n</table>\n</div>",
      "text/plain": "            tmin\ndate            \n1910-01-01   9.9\n1910-01-02  14.5\n1910-01-03  24.3\n1910-01-04  17.7\n1910-01-05  13.8"
     },
     "execution_count": 7,
     "metadata": {},
     "output_type": "execute_result"
    }
   ],
   "source": [
    "import io\n",
    "import requests\n",
    "import pandas as pd\n",
    "import datetime\n",
    "\n",
    "# Function to convert YYYYMMDD to Python datetime\n",
    "def make_date(n):\n",
    "    return datetime.datetime.strptime(n, '%Y%m%d')\n",
    "\n",
    "url = \"http://www.bom.gov.au/climate/change/acorn/sat/data/acorn.sat.minT.086071.daily.txt\"\n",
    "headers = {\"User-Agent\": \"Mozilla/5.0 (Macintosh; Intel Mac OS X 10.14; rv:66.0) Gecko/20100101 Firefox/66.0\"}\n",
    "req = requests.get(url, headers=headers)\n",
    "data = io.StringIO(req.text)\n",
    "\n",
    "\n",
    "tmin_melb = pd.read_csv(data, delimiter='\\s+', skiprows=1, names=['date', 'tmin'], na_values='99999.9',\n",
    "                       index_col=0, converters={'date':make_date})\n",
    "\n",
    "tmin_melb.head(5)"
   ]
  },
  {
   "cell_type": "code",
   "execution_count": 8,
   "metadata": {},
   "outputs": [
    {
     "data": {
      "text/html": "<div>\n<style scoped>\n    .dataframe tbody tr th:only-of-type {\n        vertical-align: middle;\n    }\n\n    .dataframe tbody tr th {\n        vertical-align: top;\n    }\n\n    .dataframe thead th {\n        text-align: right;\n    }\n</style>\n<table border=\"1\" class=\"dataframe\">\n  <thead>\n    <tr style=\"text-align: right;\">\n      <th></th>\n      <th>tmin</th>\n    </tr>\n    <tr>\n      <th>date</th>\n      <th></th>\n    </tr>\n  </thead>\n  <tbody>\n    <tr>\n      <th>1910-01-01</th>\n      <td>10.1</td>\n    </tr>\n    <tr>\n      <th>1910-01-02</th>\n      <td>13.5</td>\n    </tr>\n    <tr>\n      <th>1910-01-03</th>\n      <td>23.3</td>\n    </tr>\n    <tr>\n      <th>1910-01-04</th>\n      <td>16.6</td>\n    </tr>\n    <tr>\n      <th>1910-01-05</th>\n      <td>13.0</td>\n    </tr>\n  </tbody>\n</table>\n</div>",
      "text/plain": "            tmin\ndate            \n1910-01-01  10.1\n1910-01-02  13.5\n1910-01-03  23.3\n1910-01-04  16.6\n1910-01-05  13.0"
     },
     "execution_count": 8,
     "metadata": {},
     "output_type": "execute_result"
    }
   ],
   "source": [
    "# http://www.bom.gov.au/climate/change/hqsites/data/temp/tmin.086338.daily.csv\n",
    "import io\n",
    "import requests\n",
    "import pandas as pd\n",
    "import datetime\n",
    "\n",
    "# Function to convert YYYYMMDD to Python datetime\n",
    "def make_date(n):\n",
    "    return datetime.datetime.strptime(n, '%Y-%m-%d')\n",
    "\n",
    "url = \"http://www.bom.gov.au/climate/change/hqsites/data/temp/tmin.086338.daily.csv\"\n",
    "headers = {\"User-Agent\": \"Mozilla/5.0 (Macintosh; Intel Mac OS X 10.14; rv:66.0) Gecko/20100101 Firefox/66.0\"}\n",
    "req = requests.get(url, headers=headers)\n",
    "data = io.StringIO(req.text)\n",
    "\n",
    "tmin_melb = pd.read_csv(data, skiprows=2,  index_col=0, usecols=[0,1], names=['date', 'tmin'],\n",
    "                       converters={'date': make_date})\n",
    "tmin_melb.head(5)"
   ]
  },
  {
   "cell_type": "code",
   "execution_count": 19,
   "metadata": {},
   "outputs": [
    {
     "data": {
      "text/html": "<div>\n<style scoped>\n    .dataframe tbody tr th:only-of-type {\n        vertical-align: middle;\n    }\n\n    .dataframe tbody tr th {\n        vertical-align: top;\n    }\n\n    .dataframe thead th {\n        text-align: right;\n    }\n</style>\n<table border=\"1\" class=\"dataframe\">\n  <thead>\n    <tr style=\"text-align: right;\">\n      <th></th>\n      <th>tmax</th>\n    </tr>\n    <tr>\n      <th>date</th>\n      <th></th>\n    </tr>\n  </thead>\n  <tbody>\n    <tr>\n      <th>1910-01-01</th>\n      <td>30.7</td>\n    </tr>\n    <tr>\n      <th>1910-01-02</th>\n      <td>38.6</td>\n    </tr>\n    <tr>\n      <th>1910-01-03</th>\n      <td>36.9</td>\n    </tr>\n    <tr>\n      <th>1910-01-04</th>\n      <td>23.3</td>\n    </tr>\n    <tr>\n      <th>1910-01-05</th>\n      <td>28.5</td>\n    </tr>\n  </tbody>\n</table>\n</div>",
      "text/plain": "            tmax\ndate            \n1910-01-01  30.7\n1910-01-02  38.6\n1910-01-03  36.9\n1910-01-04  23.3\n1910-01-05  28.5"
     },
     "execution_count": 19,
     "metadata": {},
     "output_type": "execute_result"
    }
   ],
   "source": [
    "import io\n",
    "import requests\n",
    "import pandas as pd\n",
    "import datetime\n",
    "\n",
    "# Function to convert YYYYMMDD to Python datetime\n",
    "def make_date(n):\n",
    "    return pd.to_datetime(n, format='%Y%m%d')\n",
    "\n",
    "\n",
    "# Get tmin for Melbourne\n",
    "url = \"http://www.bom.gov.au/climate/change/acorn/sat/data/acorn.sat.minT.086071.daily.txt\"\n",
    "headers = {\"User-Agent\": \"Mozilla/5.0 (Macintosh; Intel Mac OS X 10.14; rv:66.0) Gecko/20100101 Firefox/66.0\"}\n",
    "req = requests.get(url, headers=headers)\n",
    "data = io.StringIO(req.text)\n",
    "tmin_melb = pd.read_csv(data, delimiter='\\s+', skiprows=1, names=['date', 'tmin'], na_values='99999.9',\n",
    "                       index_col=0, converters={'date':make_date})\n",
    "\n",
    "# Get tmax for Melbourne\n",
    "url = \"http://www.bom.gov.au/climate/change/acorn/sat/data/acorn.sat.maxT.086071.daily.txt\"\n",
    "req = requests.get(url, headers=headers)\n",
    "data = io.StringIO(req.text)\n",
    "tmax_melb = pd.read_csv(data, delimiter='\\s+', skiprows=1, names=['date', 'tmax'], na_values='99999.9',\n",
    "                       index_col=0, converters={0:make_date})\n",
    "\n",
    "tmax_melb.head(5)"
   ]
  },
  {
   "cell_type": "code",
   "execution_count": 20,
   "metadata": {},
   "outputs": [
    {
     "data": {
      "text/html": "<div>\n<style scoped>\n    .dataframe tbody tr th:only-of-type {\n        vertical-align: middle;\n    }\n\n    .dataframe tbody tr th {\n        vertical-align: top;\n    }\n\n    .dataframe thead th {\n        text-align: right;\n    }\n</style>\n<table border=\"1\" class=\"dataframe\">\n  <thead>\n    <tr style=\"text-align: right;\">\n      <th></th>\n      <th>tmin</th>\n      <th>tmax</th>\n    </tr>\n    <tr>\n      <th>date</th>\n      <th></th>\n      <th></th>\n    </tr>\n  </thead>\n  <tbody>\n    <tr>\n      <th>1910-01-01</th>\n      <td>9.9</td>\n      <td>30.7</td>\n    </tr>\n    <tr>\n      <th>1910-01-02</th>\n      <td>14.5</td>\n      <td>38.6</td>\n    </tr>\n    <tr>\n      <th>1910-01-03</th>\n      <td>24.3</td>\n      <td>36.9</td>\n    </tr>\n    <tr>\n      <th>1910-01-04</th>\n      <td>17.7</td>\n      <td>23.3</td>\n    </tr>\n    <tr>\n      <th>1910-01-05</th>\n      <td>13.8</td>\n      <td>28.5</td>\n    </tr>\n    <tr>\n      <th>1910-01-06</th>\n      <td>16.9</td>\n      <td>32.6</td>\n    </tr>\n    <tr>\n      <th>1910-01-07</th>\n      <td>17.2</td>\n      <td>29.6</td>\n    </tr>\n    <tr>\n      <th>1910-01-08</th>\n      <td>17.8</td>\n      <td>36.2</td>\n    </tr>\n    <tr>\n      <th>1910-01-09</th>\n      <td>18.3</td>\n      <td>27.3</td>\n    </tr>\n    <tr>\n      <th>1910-01-10</th>\n      <td>18.0</td>\n      <td>18.5</td>\n    </tr>\n  </tbody>\n</table>\n</div>",
      "text/plain": "            tmin  tmax\ndate                  \n1910-01-01   9.9  30.7\n1910-01-02  14.5  38.6\n1910-01-03  24.3  36.9\n1910-01-04  17.7  23.3\n1910-01-05  13.8  28.5\n1910-01-06  16.9  32.6\n1910-01-07  17.2  29.6\n1910-01-08  17.8  36.2\n1910-01-09  18.3  27.3\n1910-01-10  18.0  18.5"
     },
     "execution_count": 20,
     "metadata": {},
     "output_type": "execute_result"
    }
   ],
   "source": [
    "import pandas as pd\n",
    "\n",
    "tall_melb = tmin_melb.join(tmax_melb, how='outer')\n",
    "tall_melb.head(10)"
   ]
  },
  {
   "cell_type": "code",
   "execution_count": 21,
   "metadata": {},
   "outputs": [
    {
     "data": {
      "text/html": "<div>\n<style scoped>\n    .dataframe tbody tr th:only-of-type {\n        vertical-align: middle;\n    }\n\n    .dataframe tbody tr th {\n        vertical-align: top;\n    }\n\n    .dataframe thead th {\n        text-align: right;\n    }\n</style>\n<table border=\"1\" class=\"dataframe\">\n  <thead>\n    <tr style=\"text-align: right;\">\n      <th></th>\n      <th>tmin</th>\n      <th>tmax</th>\n      <th>tmean</th>\n    </tr>\n    <tr>\n      <th>date</th>\n      <th></th>\n      <th></th>\n      <th></th>\n    </tr>\n  </thead>\n  <tbody>\n    <tr>\n      <th>1910-01-01</th>\n      <td>9.9</td>\n      <td>30.7</td>\n      <td>20.30</td>\n    </tr>\n    <tr>\n      <th>1910-01-02</th>\n      <td>14.5</td>\n      <td>38.6</td>\n      <td>26.55</td>\n    </tr>\n    <tr>\n      <th>1910-01-03</th>\n      <td>24.3</td>\n      <td>36.9</td>\n      <td>30.60</td>\n    </tr>\n    <tr>\n      <th>1910-01-04</th>\n      <td>17.7</td>\n      <td>23.3</td>\n      <td>20.50</td>\n    </tr>\n    <tr>\n      <th>1910-01-05</th>\n      <td>13.8</td>\n      <td>28.5</td>\n      <td>21.15</td>\n    </tr>\n    <tr>\n      <th>1910-01-06</th>\n      <td>16.9</td>\n      <td>32.6</td>\n      <td>24.75</td>\n    </tr>\n    <tr>\n      <th>1910-01-07</th>\n      <td>17.2</td>\n      <td>29.6</td>\n      <td>23.40</td>\n    </tr>\n    <tr>\n      <th>1910-01-08</th>\n      <td>17.8</td>\n      <td>36.2</td>\n      <td>27.00</td>\n    </tr>\n    <tr>\n      <th>1910-01-09</th>\n      <td>18.3</td>\n      <td>27.3</td>\n      <td>22.80</td>\n    </tr>\n    <tr>\n      <th>1910-01-10</th>\n      <td>18.0</td>\n      <td>18.5</td>\n      <td>18.25</td>\n    </tr>\n  </tbody>\n</table>\n</div>",
      "text/plain": "            tmin  tmax  tmean\ndate                         \n1910-01-01   9.9  30.7  20.30\n1910-01-02  14.5  38.6  26.55\n1910-01-03  24.3  36.9  30.60\n1910-01-04  17.7  23.3  20.50\n1910-01-05  13.8  28.5  21.15\n1910-01-06  16.9  32.6  24.75\n1910-01-07  17.2  29.6  23.40\n1910-01-08  17.8  36.2  27.00\n1910-01-09  18.3  27.3  22.80\n1910-01-10  18.0  18.5  18.25"
     },
     "execution_count": 21,
     "metadata": {},
     "output_type": "execute_result"
    }
   ],
   "source": [
    "tall_melb['tmean'] = (tall_melb['tmin'] + tall_melb['tmax']) / 2\n",
    "tall_melb.head(10)"
   ]
  },
  {
   "cell_type": "code",
   "execution_count": 22,
   "metadata": {},
   "outputs": [
    {
     "data": {
      "text/html": "<div>\n<style scoped>\n    .dataframe tbody tr th:only-of-type {\n        vertical-align: middle;\n    }\n\n    .dataframe tbody tr th {\n        vertical-align: top;\n    }\n\n    .dataframe thead th {\n        text-align: right;\n    }\n</style>\n<table border=\"1\" class=\"dataframe\">\n  <thead>\n    <tr style=\"text-align: right;\">\n      <th></th>\n      <th>tmin</th>\n      <th>tmax</th>\n      <th>tmean</th>\n      <th>tave</th>\n    </tr>\n    <tr>\n      <th>date</th>\n      <th></th>\n      <th></th>\n      <th></th>\n      <th></th>\n    </tr>\n  </thead>\n  <tbody>\n    <tr>\n      <th>1910-01-01</th>\n      <td>9.9</td>\n      <td>30.7</td>\n      <td>20.30</td>\n      <td>NaN</td>\n    </tr>\n    <tr>\n      <th>1910-01-02</th>\n      <td>14.5</td>\n      <td>38.6</td>\n      <td>26.55</td>\n      <td>24.25</td>\n    </tr>\n    <tr>\n      <th>1910-01-03</th>\n      <td>24.3</td>\n      <td>36.9</td>\n      <td>30.60</td>\n      <td>25.70</td>\n    </tr>\n    <tr>\n      <th>1910-01-04</th>\n      <td>17.7</td>\n      <td>23.3</td>\n      <td>20.50</td>\n      <td>23.80</td>\n    </tr>\n    <tr>\n      <th>1910-01-05</th>\n      <td>13.8</td>\n      <td>28.5</td>\n      <td>21.15</td>\n      <td>23.10</td>\n    </tr>\n    <tr>\n      <th>1910-01-06</th>\n      <td>16.9</td>\n      <td>32.6</td>\n      <td>24.75</td>\n      <td>23.20</td>\n    </tr>\n    <tr>\n      <th>1910-01-07</th>\n      <td>17.2</td>\n      <td>29.6</td>\n      <td>23.40</td>\n      <td>23.25</td>\n    </tr>\n    <tr>\n      <th>1910-01-08</th>\n      <td>17.8</td>\n      <td>36.2</td>\n      <td>27.00</td>\n      <td>26.70</td>\n    </tr>\n    <tr>\n      <th>1910-01-09</th>\n      <td>18.3</td>\n      <td>27.3</td>\n      <td>22.80</td>\n      <td>22.55</td>\n    </tr>\n    <tr>\n      <th>1910-01-10</th>\n      <td>18.0</td>\n      <td>18.5</td>\n      <td>18.25</td>\n      <td>18.40</td>\n    </tr>\n  </tbody>\n</table>\n</div>",
      "text/plain": "            tmin  tmax  tmean   tave\ndate                                \n1910-01-01   9.9  30.7  20.30    NaN\n1910-01-02  14.5  38.6  26.55  24.25\n1910-01-03  24.3  36.9  30.60  25.70\n1910-01-04  17.7  23.3  20.50  23.80\n1910-01-05  13.8  28.5  21.15  23.10\n1910-01-06  16.9  32.6  24.75  23.20\n1910-01-07  17.2  29.6  23.40  23.25\n1910-01-08  17.8  36.2  27.00  26.70\n1910-01-09  18.3  27.3  22.80  22.55\n1910-01-10  18.0  18.5  18.25  18.40"
     },
     "execution_count": 22,
     "metadata": {},
     "output_type": "execute_result"
    }
   ],
   "source": [
    "tall_melb['tave'] = (tall_melb['tmin'].shift(1) + tall_melb['tmax']) / 2\n",
    "tall_melb.head(10)"
   ]
  },
  {
   "cell_type": "code",
   "execution_count": 23,
   "metadata": {},
   "outputs": [
    {
     "data": {
      "text/html": "<div>\n<style scoped>\n    .dataframe tbody tr th:only-of-type {\n        vertical-align: middle;\n    }\n\n    .dataframe tbody tr th {\n        vertical-align: top;\n    }\n\n    .dataframe thead th {\n        text-align: right;\n    }\n</style>\n<table border=\"1\" class=\"dataframe\">\n  <thead>\n    <tr style=\"text-align: right;\">\n      <th></th>\n      <th>tmin</th>\n      <th>tmax</th>\n      <th>tmean</th>\n      <th>tave</th>\n    </tr>\n  </thead>\n  <tbody>\n    <tr>\n      <th>count</th>\n      <td>38333.000000</td>\n      <td>38349.000000</td>\n      <td>38325.000000</td>\n      <td>38324.000000</td>\n    </tr>\n    <tr>\n      <th>mean</th>\n      <td>11.197063</td>\n      <td>20.294086</td>\n      <td>15.744868</td>\n      <td>15.744960</td>\n    </tr>\n    <tr>\n      <th>std</th>\n      <td>4.079829</td>\n      <td>6.188608</td>\n      <td>4.736621</td>\n      <td>4.552461</td>\n    </tr>\n    <tr>\n      <th>min</th>\n      <td>-0.400000</td>\n      <td>7.000000</td>\n      <td>4.200000</td>\n      <td>3.750000</td>\n    </tr>\n    <tr>\n      <th>25%</th>\n      <td>8.300000</td>\n      <td>15.600000</td>\n      <td>12.100000</td>\n      <td>12.150000</td>\n    </tr>\n    <tr>\n      <th>50%</th>\n      <td>11.000000</td>\n      <td>19.200000</td>\n      <td>15.150000</td>\n      <td>15.250000</td>\n    </tr>\n    <tr>\n      <th>75%</th>\n      <td>13.900000</td>\n      <td>23.600000</td>\n      <td>18.700000</td>\n      <td>18.750000</td>\n    </tr>\n    <tr>\n      <th>max</th>\n      <td>28.800000</td>\n      <td>46.400000</td>\n      <td>35.450000</td>\n      <td>36.250000</td>\n    </tr>\n  </tbody>\n</table>\n</div>",
      "text/plain": "               tmin          tmax         tmean          tave\ncount  38333.000000  38349.000000  38325.000000  38324.000000\nmean      11.197063     20.294086     15.744868     15.744960\nstd        4.079829      6.188608      4.736621      4.552461\nmin       -0.400000      7.000000      4.200000      3.750000\n25%        8.300000     15.600000     12.100000     12.150000\n50%       11.000000     19.200000     15.150000     15.250000\n75%       13.900000     23.600000     18.700000     18.750000\nmax       28.800000     46.400000     35.450000     36.250000"
     },
     "execution_count": 23,
     "metadata": {},
     "output_type": "execute_result"
    }
   ],
   "source": [
    "tall_melb.describe()"
   ]
  },
  {
   "cell_type": "code",
   "execution_count": 24,
   "metadata": {},
   "outputs": [
    {
     "data": {
      "text/html": "<div>\n<style scoped>\n    .dataframe tbody tr th:only-of-type {\n        vertical-align: middle;\n    }\n\n    .dataframe tbody tr th {\n        vertical-align: top;\n    }\n\n    .dataframe thead th {\n        text-align: right;\n    }\n</style>\n<table border=\"1\" class=\"dataframe\">\n  <thead>\n    <tr style=\"text-align: right;\">\n      <th></th>\n      <th>tmin</th>\n      <th>tmax</th>\n      <th>tmean</th>\n    </tr>\n    <tr>\n      <th>date</th>\n      <th></th>\n      <th></th>\n      <th></th>\n    </tr>\n  </thead>\n  <tbody>\n    <tr>\n      <th>1910-01-01</th>\n      <td>9.9</td>\n      <td>30.7</td>\n      <td>20.30</td>\n    </tr>\n    <tr>\n      <th>1910-01-02</th>\n      <td>14.5</td>\n      <td>38.6</td>\n      <td>26.55</td>\n    </tr>\n    <tr>\n      <th>1910-01-03</th>\n      <td>24.3</td>\n      <td>36.9</td>\n      <td>30.60</td>\n    </tr>\n    <tr>\n      <th>1910-01-04</th>\n      <td>17.7</td>\n      <td>23.3</td>\n      <td>20.50</td>\n    </tr>\n    <tr>\n      <th>1910-01-05</th>\n      <td>13.8</td>\n      <td>28.5</td>\n      <td>21.15</td>\n    </tr>\n    <tr>\n      <th>1910-01-06</th>\n      <td>16.9</td>\n      <td>32.6</td>\n      <td>24.75</td>\n    </tr>\n    <tr>\n      <th>1910-01-07</th>\n      <td>17.2</td>\n      <td>29.6</td>\n      <td>23.40</td>\n    </tr>\n    <tr>\n      <th>1910-01-08</th>\n      <td>17.8</td>\n      <td>36.2</td>\n      <td>27.00</td>\n    </tr>\n    <tr>\n      <th>1910-01-09</th>\n      <td>18.3</td>\n      <td>27.3</td>\n      <td>22.80</td>\n    </tr>\n    <tr>\n      <th>1910-01-10</th>\n      <td>18.0</td>\n      <td>18.5</td>\n      <td>18.25</td>\n    </tr>\n  </tbody>\n</table>\n</div>",
      "text/plain": "            tmin  tmax  tmean\ndate                         \n1910-01-01   9.9  30.7  20.30\n1910-01-02  14.5  38.6  26.55\n1910-01-03  24.3  36.9  30.60\n1910-01-04  17.7  23.3  20.50\n1910-01-05  13.8  28.5  21.15\n1910-01-06  16.9  32.6  24.75\n1910-01-07  17.2  29.6  23.40\n1910-01-08  17.8  36.2  27.00\n1910-01-09  18.3  27.3  22.80\n1910-01-10  18.0  18.5  18.25"
     },
     "execution_count": 24,
     "metadata": {},
     "output_type": "execute_result"
    }
   ],
   "source": [
    "tall_melb = tall_melb.drop('tave', axis=1)\n",
    "tall_melb.head(10)"
   ]
  },
  {
   "cell_type": "code",
   "execution_count": 2,
   "metadata": {},
   "outputs": [
    {
     "ename": "ModuleNotFoundError",
     "evalue": "No module named 'matplotlib'",
     "output_type": "error",
     "traceback": [
      "\u001b[1;31m---------------------------------------------------------------------------\u001b[0m",
      "\u001b[1;31mModuleNotFoundError\u001b[0m                       Traceback (most recent call last)",
      "\u001b[1;32m<ipython-input-2-327c65942636>\u001b[0m in \u001b[0;36m<module>\u001b[1;34m\u001b[0m\n\u001b[1;32m----> 1\u001b[1;33m \u001b[1;32mimport\u001b[0m \u001b[0mmatplotlib\u001b[0m\u001b[1;33m\u001b[0m\u001b[1;33m\u001b[0m\u001b[0m\n\u001b[0m\u001b[0;32m      2\u001b[0m \u001b[1;32mimport\u001b[0m \u001b[0mmatplotlib\u001b[0m\u001b[1;33m.\u001b[0m\u001b[0mpyplot\u001b[0m \u001b[1;32mas\u001b[0m \u001b[0mplt\u001b[0m\u001b[1;33m\u001b[0m\u001b[1;33m\u001b[0m\u001b[0m\n\u001b[0;32m      3\u001b[0m \u001b[0mget_ipython\u001b[0m\u001b[1;33m(\u001b[0m\u001b[1;33m)\u001b[0m\u001b[1;33m.\u001b[0m\u001b[0mrun_line_magic\u001b[0m\u001b[1;33m(\u001b[0m\u001b[1;34m'matplotlib'\u001b[0m\u001b[1;33m,\u001b[0m \u001b[1;34m'inline'\u001b[0m\u001b[1;33m)\u001b[0m\u001b[1;33m\u001b[0m\u001b[1;33m\u001b[0m\u001b[0m\n\u001b[0;32m      4\u001b[0m \u001b[1;33m\u001b[0m\u001b[0m\n\u001b[0;32m      5\u001b[0m \u001b[0mtall_melb\u001b[0m\u001b[1;33m.\u001b[0m\u001b[0mplot\u001b[0m\u001b[1;33m(\u001b[0m\u001b[1;33m)\u001b[0m\u001b[1;33m\u001b[0m\u001b[1;33m\u001b[0m\u001b[0m\n",
      "\u001b[1;31mModuleNotFoundError\u001b[0m: No module named 'matplotlib'"
     ]
    }
   ],
   "source": [
    "import matplotlib.pyplot as plt\n",
    "%matplotlib inline\n",
    "\n",
    "tall_melb.plot()"
   ]
  },
  {
   "cell_type": "code",
   "execution_count": null,
   "metadata": {},
   "outputs": [],
   "source": [
    "tall_melb['1980-01-01':'1980-12-31'].plot()"
   ]
  },
  {
   "cell_type": "code",
   "execution_count": null,
   "metadata": {},
   "outputs": [],
   "source": [
    "tall_melb['1980-01-01':'1980-12-31'].rolling(10).mean().plot()"
   ]
  },
  {
   "cell_type": "code",
   "execution_count": null,
   "metadata": {},
   "outputs": [],
   "source": [
    "%matplotlib inline\n",
    "\n",
    "tall_melb['1980-01-01':'1980-12-31'].rolling(10, win_type='triang').mean().plot() \n",
    "# boxcar triang blackman hamming bartlett parzen bohman blackmanharris nuttall barthann"
   ]
  },
  {
   "cell_type": "code",
   "execution_count": null,
   "metadata": {},
   "outputs": [],
   "source": [
    "%matplotlib inline\n",
    "\n",
    "# Can also use an offset - e.g. number of days...\n",
    "tall_melb['1980-01-01':'1980-12-31'].rolling('10d').mean().plot()"
   ]
  },
  {
   "cell_type": "code",
   "execution_count": null,
   "metadata": {},
   "outputs": [],
   "source": [
    "# Group by month...\n",
    "\n",
    "mnth_melb = tall_melb.groupby(by=tall_melb.index.month)\n",
    "mnth_melb.mean()"
   ]
  },
  {
   "cell_type": "code",
   "execution_count": null,
   "metadata": {},
   "outputs": [],
   "source": [
    "# Find the monthly climatology for Melbourne...\n",
    "\n",
    "clim = tall_melb['1961-01-01':'1991-01-01']\n",
    "clim.groupby(by=clim.index.month).mean()"
   ]
  },
  {
   "cell_type": "code",
   "execution_count": null,
   "metadata": {},
   "outputs": [],
   "source": [
    "tall_melb['tmax'] > 42"
   ]
  },
  {
   "cell_type": "code",
   "execution_count": null,
   "metadata": {},
   "outputs": [],
   "source": [
    "# Find all days with max temp > 42\n",
    "\n",
    "# tall_melb['tmax'] > 42\n",
    "tall_melb[tall_melb['tmax'] > 42]"
   ]
  },
  {
   "cell_type": "code",
   "execution_count": null,
   "metadata": {},
   "outputs": [],
   "source": [
    "# Look at correlation...\n",
    "\n",
    "tall_melb['tmax'].corr(tall_melb['tmin'])"
   ]
  },
  {
   "cell_type": "code",
   "execution_count": null,
   "metadata": {},
   "outputs": [],
   "source": [
    "tall_melb.corr()"
   ]
  },
  {
   "cell_type": "code",
   "execution_count": null,
   "metadata": {},
   "outputs": [],
   "source": [
    "tall_melb.quantile(0.5)"
   ]
  },
  {
   "cell_type": "code",
   "execution_count": null,
   "metadata": {},
   "outputs": [],
   "source": [
    "tall_melb.quantile([0.1, 0.5, 0.9])"
   ]
  },
  {
   "cell_type": "code",
   "execution_count": null,
   "metadata": {},
   "outputs": [],
   "source": [
    "tall_melb.quantile([0.1, 0.5, 0.9], interpolation='lower') # linear’, ‘lower’, ‘higher’, ‘midpoint’, ‘nearest’"
   ]
  },
  {
   "cell_type": "code",
   "execution_count": null,
   "metadata": {},
   "outputs": [],
   "source": [
    "import seaborn as sns\n",
    "\n",
    "correlations = tall_melb.corr()\n",
    "sns.heatmap(correlations)"
   ]
  },
  {
   "cell_type": "code",
   "execution_count": null,
   "metadata": {},
   "outputs": [],
   "source": [
    "# Find the 10 hottest days in Melbourne\n",
    "\n",
    "tall_melb.sort_values(by='tmax', ascending=False).head(10)"
   ]
  },
  {
   "cell_type": "code",
   "execution_count": null,
   "metadata": {},
   "outputs": [],
   "source": [
    "pd.plotting.lag_plot(tall_melb['2010-01-01':'2011-01-01']['tmax'])"
   ]
  },
  {
   "cell_type": "code",
   "execution_count": null,
   "metadata": {},
   "outputs": [],
   "source": [
    "pd.plotting.autocorrelation_plot(tall_melb['2010-01-01':'2011-01-01']['tmax'])"
   ]
  },
  {
   "cell_type": "code",
   "execution_count": null,
   "metadata": {},
   "outputs": [],
   "source": [
    "resampled = tall_melb['2010-01-01':'2011-01-01'].tmax.resample('W').mean()\n",
    "resampled.plot()"
   ]
  },
  {
   "cell_type": "code",
   "execution_count": null,
   "metadata": {},
   "outputs": [],
   "source": [
    "import sqlite3\n",
    "import pandas as pd\n",
    "\n",
    "conn = sqlite3.connect('acorn.db')\n",
    "\n",
    "stations = pd.read_sql_query(\"SELECT * FROM stations\", conn, index_col='stn_num')\n",
    "stations.head(10)"
   ]
  },
  {
   "cell_type": "code",
   "execution_count": null,
   "metadata": {},
   "outputs": [],
   "source": [
    "stations[['lat', 'lon']].values"
   ]
  },
  {
   "cell_type": "code",
   "execution_count": null,
   "metadata": {},
   "outputs": [],
   "source": [
    "import matplotlib.pyplot as plt\n",
    "import cartopy.crs as ccrs\n",
    "import cartopy.feature as cfeature \n",
    "\n",
    "ax = plt.axes(projection=ccrs.PlateCarree()) \n",
    "ax.set_extent([100, 170, -40, -5])         \n",
    "ax.add_feature(cfeature.LAND)\n",
    "ax.add_feature(cfeature.OCEAN)\n",
    "\n",
    "plt.show()"
   ]
  },
  {
   "cell_type": "code",
   "execution_count": null,
   "metadata": {},
   "outputs": [],
   "source": [
    "import matplotlib.pyplot as plt\n",
    "import cartopy.crs as ccrs\n",
    "import cartopy.feature as cfeature \n",
    "\n",
    "ax = plt.axes(projection=ccrs.PlateCarree()) \n",
    "ax.set_extent([100, 170, -40, -5])         \n",
    "ax.add_feature(cfeature.LAND)\n",
    "ax.add_feature(cfeature.OCEAN)\n",
    "ax.scatter(stations.lon.values,stations.lat.values,transform=ccrs.PlateCarree())\n",
    "plt.show()\n",
    "# plt.savefig('acornsat.svg')"
   ]
  },
  {
   "cell_type": "code",
   "execution_count": null,
   "metadata": {},
   "outputs": [],
   "source": [
    "import sqlite3\n",
    "import pandas as pd\n",
    "\n",
    "conn = sqlite3.connect('acorn.db')\n",
    "\n",
    "data = pd.read_sql_query(\"\"\"\n",
    "    SELECT stn_num, lsd, prcp, t_min, t_max \n",
    "    FROM observations\n",
    "    WHERE lsd >= '1960-01-01'\n",
    "     AND  lsd < 1991-01-01\n",
    "    \"\"\", conn)\n",
    "data.head(10)"
   ]
  },
  {
   "cell_type": "code",
   "execution_count": null,
   "metadata": {},
   "outputs": [],
   "source": [
    "data.groupby(by=data.stn_num).mean()\n"
   ]
  },
  {
   "cell_type": "code",
   "execution_count": null,
   "metadata": {},
   "outputs": [],
   "source": [
    "import sqlite3\n",
    "import pandas as pd\n",
    "\n",
    "conn = sqlite3.connect('acorn.db')\n",
    "\n",
    "data = pd.read_sql_query(\"\"\"\n",
    "    SELECT stn_num, lsd, prcp, t_min, t_max \n",
    "    FROM observations\n",
    "    WHERE lsd == '1960-01-01'\n",
    "    \"\"\", conn)\n",
    "data.head(10)\n"
   ]
  },
  {
   "cell_type": "code",
   "execution_count": null,
   "metadata": {},
   "outputs": [],
   "source": [
    "import sqlite3\n",
    "import pandas as pd\n",
    "\n",
    "conn = sqlite3.connect('acorn.db')\n",
    "\n",
    "data = pd.read_sql_query(\"\"\"\n",
    "    SELECT lat, lon, s.stn_num,  t_max \n",
    "    FROM observations o, stations s\n",
    "    WHERE lsd == '2005-01-01'\n",
    "    AND o.stn_num = s.stn_num\n",
    "    \"\"\", conn)\n",
    "data.head(10)"
   ]
  },
  {
   "cell_type": "code",
   "execution_count": null,
   "metadata": {},
   "outputs": [],
   "source": [
    "import matplotlib.pyplot as plt\n",
    "%matplotlib inline\n",
    "\n",
    "y = data.lat.values \n",
    "x = data.lon.values \n",
    "t = data.t_max.values\n",
    "plt.scatter(x, y)\n",
    "# plt.scatter(data.lon.values,data.lat.values)\n"
   ]
  },
  {
   "cell_type": "code",
   "execution_count": null,
   "metadata": {},
   "outputs": [],
   "source": [
    "import matplotlib.pyplot as plt\n",
    "%matplotlib inline\n",
    "\n",
    "y = data.lat.values \n",
    "x = data.lon.values \n",
    "t = data.t_max.values\n",
    "plt.scatter(x, y, c=t)\n",
    "plt.colorbar()"
   ]
  },
  {
   "cell_type": "code",
   "execution_count": null,
   "metadata": {},
   "outputs": [],
   "source": [
    "import matplotlib.pyplot as plt\n",
    "%matplotlib inline\n",
    "\n",
    "y = data.lat.values \n",
    "x = data.lon.values \n",
    "t = data.t_max.values\n",
    "plt.scatter(x, y, c=t, s=t*5, alpha=0.5, cmap='plasma')\n",
    "plt.colorbar()"
   ]
  },
  {
   "cell_type": "code",
   "execution_count": null,
   "metadata": {},
   "outputs": [],
   "source": [
    "import numpy as np\n",
    "from scipy.interpolate import griddata\n",
    "\n",
    "X, Y = np.meshgrid(np.linspace(110,155,100), np.linspace(-45,-10,100))\n",
    "\n",
    "#perform the gridding\n",
    "grid_temp = griddata((x,y), t, (X, Y))\n",
    "\n",
    "# plt.clf()\n",
    "plt.contourf(X,Y,grid_temp, cmap='plasma')\n",
    "plt.colorbar()"
   ]
  },
  {
   "cell_type": "code",
   "execution_count": null,
   "metadata": {},
   "outputs": [],
   "source": []
  },
  {
   "cell_type": "code",
   "execution_count": null,
   "metadata": {},
   "outputs": [],
   "source": [
    "x = tall_melb['1961-01-01':'1991-01-01'].tmin.rolling(5).mean()\n",
    "x.quantile(0.1)\n",
    "# tall_melb['1961-01-01':'1991-01-01'].tmin.quantile(0.1)"
   ]
  },
  {
   "cell_type": "code",
   "execution_count": null,
   "metadata": {},
   "outputs": [],
   "source": [
    "x = tall_melb['1961-01-01':'1991-01-01'].tmin.rolling(5).mean()\n",
    "q10 = x.quantile(0.1)\n",
    "print(q10)\n",
    "pop = tall_melb['1999-01-01':'2000-01-01']\n",
    "total = pop.tmin.count()\n",
    "sub = pop.tmin[pop.tmin < q10].count()\n",
    "(sub / total) * 100"
   ]
  },
  {
   "cell_type": "code",
   "execution_count": null,
   "metadata": {},
   "outputs": [],
   "source": [
    "import math\n",
    "\n",
    "# a = [1, 1, 1, 1, 1, 1]\n",
    "\n",
    "a = [1, 1, 1, 2, 3, 5, 7, 7, 11, 13, 13, 13]\n",
    "\n",
    "b = [min(1, abs(x-y)) for x, y in zip(a, a[1:])] \n",
    "\n",
    "\n",
    "p = (b + [1]).index(1)\n",
    "print(p)\n",
    "a[:p] = [math.nan] * p\n",
    "try:\n",
    "    p = (b[::-1]).index(1)\n",
    "    a[-p:] = [math.nan] * p\n",
    "except:\n",
    "    pass\n",
    "\n",
    "a\n"
   ]
  },
  {
   "cell_type": "code",
   "execution_count": null,
   "metadata": {},
   "outputs": [],
   "source": []
  },
  {
   "cell_type": "code",
   "execution_count": null,
   "metadata": {},
   "outputs": [],
   "source": [
    "from mpl_toolkits import mplot3d\n",
    "\n",
    "import numpy as np\n",
    "import matplotlib.pyplot as plt\n",
    "%matplotlib inline\n",
    "\n",
    "# fig = plt.figure()\n",
    "ax = plt.axes(projection=\"3d\")\n",
    "\n",
    "plt.show()"
   ]
  },
  {
   "cell_type": "code",
   "execution_count": null,
   "metadata": {},
   "outputs": [],
   "source": [
    "# fig = plt.figure()\n",
    "ax = plt.axes(projection=\"3d\")\n",
    "\n",
    "z_line = np.linspace(0, 15, 1000)\n",
    "x_line = np.cos(z_line)\n",
    "y_line = np.sin(z_line)\n",
    "ax.plot3D(x_line, y_line, z_line, 'gray')\n",
    "\n",
    "z_points = 15 * np.random.random(100)\n",
    "x_points = np.cos(z_points) + 0.1 * np.random.randn(100)\n",
    "y_points = np.sin(z_points) + 0.1 * np.random.randn(100)\n",
    "ax.scatter3D(x_points, y_points, z_points, c=z_points, cmap='hsv');\n",
    "\n",
    "plt.show()\n"
   ]
  },
  {
   "cell_type": "code",
   "execution_count": null,
   "metadata": {},
   "outputs": [],
   "source": []
  }
 ],
 "metadata": {
  "kernelspec": {
   "display_name": "Python 3",
   "language": "python",
   "name": "python3"
  },
  "language_info": {
   "codemirror_mode": {
    "name": "ipython",
    "version": 3
   },
   "file_extension": ".py",
   "mimetype": "text/x-python",
   "name": "python",
   "nbconvert_exporter": "python",
   "pygments_lexer": "ipython3",
   "version": "3.7.5"
  }
 },
 "nbformat": 4,
 "nbformat_minor": 2
}